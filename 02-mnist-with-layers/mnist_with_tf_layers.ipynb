{
 "cells": [
  {
   "cell_type": "markdown",
   "metadata": {},
   "source": [
    "# Classifiying MNIST-digits using the TensorFlow Layers-API\n",
    "\n",
    "This notebook requires Python 3.5 and Tensorflow 1.0"
   ]
  },
  {
   "cell_type": "code",
   "execution_count": 1,
   "metadata": {
    "collapsed": false
   },
   "outputs": [
    {
     "name": "stderr",
     "output_type": "stream",
     "text": [
      "/Users/michaelmuckel/anaconda/envs/tf10/lib/python3.5/site-packages/matplotlib/__init__.py:913: UserWarning: axes.color_cycle is deprecated and replaced with axes.prop_cycle; please use the latter.\n",
      "  warnings.warn(self.msg_depr % (key, alt_key))\n"
     ]
    }
   ],
   "source": [
    "import sys\n",
    "import time\n",
    "import datetime\n",
    "from collections import Counter\n",
    "\n",
    "import numpy as np\n",
    "\n",
    "import tensorflow as tf\n",
    "from tensorflow.contrib import learn\n",
    "\n",
    "import matplotlib.pyplot as plt\n",
    "% %matplotlib inline"
   ]
  },
  {
   "cell_type": "markdown",
   "metadata": {},
   "source": [
    "### Load MNIST-data\n",
    "\n",
    "The digits and the labels for both training and test datasets are loading via TFLearn, which provide sample datasets and functions to load them quite easily."
   ]
  },
  {
   "cell_type": "code",
   "execution_count": 2,
   "metadata": {
    "collapsed": true
   },
   "outputs": [],
   "source": [
    "# set the two required directories\n",
    "LOG_DIR = './tmp/'      # includes logging-outputs for Tensorboard\n",
    "DATA_DIR = './data/'    # contains raw MNIST dataset"
   ]
  },
  {
   "cell_type": "code",
   "execution_count": 3,
   "metadata": {
    "collapsed": false
   },
   "outputs": [
    {
     "name": "stdout",
     "output_type": "stream",
     "text": [
      "Retrieving MNIST-dataset ...\n",
      "Extracting ./data/train-images-idx3-ubyte.gz\n",
      "Extracting ./data/train-labels-idx1-ubyte.gz\n",
      "Extracting ./data/t10k-images-idx3-ubyte.gz\n",
      "Extracting ./data/t10k-labels-idx1-ubyte.gz\n"
     ]
    }
   ],
   "source": [
    "print('Retrieving MNIST-dataset ...')\n",
    "mnist = tf.contrib.learn.datasets.mnist.read_data_sets(train_dir=DATA_DIR, one_hot=True)"
   ]
  },
  {
   "cell_type": "code",
   "execution_count": 4,
   "metadata": {
    "collapsed": false
   },
   "outputs": [
    {
     "name": "stdout",
     "output_type": "stream",
     "text": [
      "Training data    :  (55000, 784)\n",
      "Evaluation data  :  (5000, 784)\n",
      "Testing data     :  (10000, 784)\n",
      "Training labels  :  (55000, 10)\n",
      "Evaluation labels:  (5000, 10)\n",
      "Testing labels   :  (10000, 10)\n"
     ]
    }
   ],
   "source": [
    "train_data = mnist.train.images \n",
    "train_labels = np.asarray(mnist.train.labels, dtype=np.int32)\n",
    "eval_data = mnist.validation.images\n",
    "eval_labels = np.asarray(mnist.validation.labels, dtype=np.int32)\n",
    "test_data = mnist.test.images\n",
    "test_labels = np.asarray(mnist.test.labels, dtype=np.int32)\n",
    "\n",
    "num_train_examples = train_data.shape[0]\n",
    "num_eval_examples = eval_data.shape[0]\n",
    "num_test_examples = test_data.shape[0]\n",
    "\n",
    "print(\"Training data    : \", train_data.shape)\n",
    "print(\"Evaluation data  : \", eval_data.shape)\n",
    "print(\"Testing data     : \", test_data.shape)\n",
    "print(\"Training labels  : \", train_labels.shape)\n",
    "print(\"Evaluation labels: \", eval_labels.shape)\n",
    "print(\"Testing labels   : \", test_labels.shape)"
   ]
  },
  {
   "cell_type": "code",
   "execution_count": 5,
   "metadata": {
    "collapsed": true
   },
   "outputs": [],
   "source": [
    "# Prepare given images for processing in conv-net\n",
    "def prepare_images(digits, normalize=True):\n",
    "    \"\"\"Transform an array digits-images into the format suitable for training a Conv-Net. \"\"\"\n",
    "    \n",
    "    if normalize == True:\n",
    "        MEAN = np.mean(mnist.train.images)\n",
    "        STD = np.std(mnist.train.images)\n",
    "        transformed_digits = (digits - MEAN) / STD\n",
    "    else:\n",
    "        transformed_digits = digits\n",
    "    \n",
    "    return np.reshape(transformed_digits, [-1, 28, 28, 1]) "
   ]
  },
  {
   "cell_type": "markdown",
   "metadata": {},
   "source": [
    "### Visualize a sample of the images"
   ]
  },
  {
   "cell_type": "code",
   "execution_count": 6,
   "metadata": {
    "collapsed": false
   },
   "outputs": [
    {
     "data": {
      "image/png": "[encoded data removed]",
      "text/plain": [
       "<matplotlib.figure.Figure at 0x116277898>"
      ]
     },
     "metadata": {},
     "output_type": "display_data"
    }
   ],
   "source": [
    "# Function for displaying a training image by it's index in the MNIST set\n",
    "def show_digits(data, labels, indexes, predictions=None):\n",
    "    \"\"\"Renders the digits and the corresponding labels for the given indicies.\"\"\"\n",
    "    per_row = 6\n",
    "    rows = int((len(indexes) / per_row) + 1)\n",
    "    cols = per_row\n",
    "\n",
    "    plt.figure(figsize=(14, 8))\n",
    "    for i, index in enumerate(indexes):\n",
    "        \n",
    "        plt.subplot(rows, cols, (i) + 1)\n",
    "        label = labels[index].argmax(axis=0)\n",
    "        # Reshape 784 array into 28x28 image\n",
    "        image = data[index].reshape([28,28])\n",
    "        if predictions == None:\n",
    "            plt.title('L: %d' % (label))\n",
    "        else:\n",
    "            plt.title('L: %d,  P: %d' % (label, predictions[i]))\n",
    "        plt.imshow(image, cmap='gray_r')\n",
    "    \n",
    "    plt.show()\n",
    "    \n",
    "# Display the first (index 0) training image\n",
    "train_samples_idx = [int(np.random.sample() * len(train_data)) for i in range(12)] \n",
    "show_digits(train_data, train_labels, train_samples_idx)\n"
   ]
  },
  {
   "cell_type": "markdown",
   "metadata": {},
   "source": [
    "### Build the model"
   ]
  },
  {
   "cell_type": "code",
   "execution_count": 7,
   "metadata": {
    "collapsed": true
   },
   "outputs": [],
   "source": [
    "# Build model with straight-forward convolutional network architecture\n",
    "def build_model(input, is_training=True, scope='conv--net'):\n",
    "    \n",
    "    with tf.variable_scope(scope, 'ConvNet'):\n",
    "        \n",
    "        net = tf.layers.conv2d(input, filters=20, kernel_size=(5, 5), padding='SAME', name='layer-01-conv')\n",
    "        net = tf.layers.max_pooling2d(net, 2, strides=2, name='layer-02-maxpool')\n",
    "        \n",
    "        net = tf.layers.conv2d(net, 40, (5, 5), padding='VALID', name='layer-03-conv')\n",
    "        net = tf.layers.max_pooling2d(net, 2, strides=2, name='layer-04-maxpool')\n",
    "        \n",
    "        net = tf.reshape(net, [-1, 5*5*40])\n",
    "        net = tf.layers.dense(net, 1000, name='layer-05-dense')\n",
    "        net = tf.layers.dropout(net, training=is_training, name='layer5-dropout')\n",
    "        \n",
    "        net = tf.layers.dense(net, 10, name='layer-06-output-dense')\n",
    "        \n",
    "        return net"
   ]
  },
  {
   "cell_type": "markdown",
   "metadata": {},
   "source": [
    "### Train the model"
   ]
  },
  {
   "cell_type": "code",
   "execution_count": 8,
   "metadata": {
    "collapsed": false
   },
   "outputs": [],
   "source": [
    "# use this line to reset graph to start a new graph\n",
    "tf.reset_default_graph()\n",
    "\n",
    "# Define placeholders for training and evaluating the model\n",
    "X = tf.placeholder(tf.float32, [None, 28, 28, 1], name='Inputs')\n",
    "y = tf.placeholder(tf.float32, [None, 10], name='Labels')\n",
    "is_training = tf.placeholder(tf.bool, name=\"is_training\")\n",
    "\n",
    "# build the model graph\n",
    "logits = build_model(X, is_training)"
   ]
  },
  {
   "cell_type": "code",
   "execution_count": 9,
   "metadata": {
    "collapsed": false
   },
   "outputs": [],
   "source": [
    "cross_entropy = tf.reduce_mean(tf.nn.softmax_cross_entropy_with_logits(logits=logits, labels=y))\n",
    "correct_predictions = tf.equal(tf.argmax(logits, axis=1), tf.argmax(y, axis=1))\n",
    "accuracy = tf.reduce_mean(tf.cast(correct_predictions, tf.float32))\n",
    "\n",
    "train_step = tf.train.MomentumOptimizer(0.01, 0.5).minimize(cross_entropy)"
   ]
  },
  {
   "cell_type": "code",
   "execution_count": 10,
   "metadata": {
    "collapsed": true
   },
   "outputs": [],
   "source": [
    "# Define the two metrics that will be visualized in Tensorboard\n",
    "loss_summary = tf.summary.scalar('loss', cross_entropy)\n",
    "accuracy_summary = tf.summary.scalar('accuracy', accuracy)"
   ]
  },
  {
   "cell_type": "code",
   "execution_count": 11,
   "metadata": {
    "collapsed": false
   },
   "outputs": [],
   "source": [
    "def print_status_line(str):\n",
    "    sys.stdout.write('\\r')\n",
    "    sys.stdout.flush()\n",
    "    print(str, end='')"
   ]
  },
  {
   "cell_type": "code",
   "execution_count": 12,
   "metadata": {
    "collapsed": false
   },
   "outputs": [
    {
     "name": "stdout",
     "output_type": "stream",
     "text": [
      "Starting training loop ...\n",
      "Epoche: 1 Batch: 420  of 429  [97.9 %]  - Images per sec: 322.3\n",
      "   Validation Accuracy = 95.60%\n",
      "Epoche: 2 Batch: 420  of 429  [97.9 %]  - Images per sec: 322.4\n",
      "   Validation Accuracy = 97.34%\n",
      "Epoche: 3 Batch: 420  of 429  [97.9 %]  - Images per sec: 322.0\n",
      "   Validation Accuracy = 97.76%\n",
      "Epoche: 4 Batch: 420  of 429  [97.9 %]  - Images per sec: 324.0\n",
      "   Validation Accuracy = 97.96%\n",
      "Epoche: 5 Batch: 420  of 429  [97.9 %]  - Images per sec: 292.8\n",
      "   Validation Accuracy = 98.16%\n",
      "Epoche: 6 Batch: 420  of 429  [97.9 %]  - Images per sec: 322.3\n",
      "   Validation Accuracy = 98.14%\n",
      "Epoche: 7 Batch: 420  of 429  [97.9 %]  - Images per sec: 321.9\n",
      "   Validation Accuracy = 98.60%\n",
      "Epoche: 8 Batch: 420  of 429  [97.9 %]  - Images per sec: 318.4\n",
      "   Validation Accuracy = 98.64%\n",
      "Epoche: 9 Batch: 420  of 429  [97.9 %]  - Images per sec: 322.2\n",
      "   Validation Accuracy = 98.70%\n",
      "Epoche: 10 Batch: 420  of 429  [97.9 %]  - Images per sec: 321.7\n",
      "   Validation Accuracy = 98.68%\n",
      "Training finished.\n"
     ]
    }
   ],
   "source": [
    "epochs = 10\n",
    "batch_size = 128\n",
    "global_step = 0\n",
    "num_batches = int(num_train_examples / batch_size)\n",
    "\n",
    "evaluate_accurracy_data = {\n",
    "    X: prepare_images(eval_data),\n",
    "    y: eval_labels,\n",
    "    is_training: False\n",
    "}\n",
    "\n",
    "session = tf.InteractiveSession()\n",
    "    \n",
    "session.run(tf.global_variables_initializer());\n",
    "run_dir = \"log-\" + datetime.datetime.now().strftime('%Y%m%d_%H%M')\n",
    "train_writer = tf.summary.FileWriter('./tmp/' + run_dir, session.graph )   \n",
    "    \n",
    "print(\"Starting training loop ...\")\n",
    "    \n",
    "images_per_second = 0\n",
    "    \n",
    "# run number of epoches\n",
    "for e in range(epochs):\n",
    "        \n",
    "    start_time = time.time()\n",
    "    batch_count = 0\n",
    "        \n",
    "    # run training with individual batches until training data is depleated\n",
    "    for _ in range(int(num_train_examples / batch_size)):\n",
    "        batch_count += 1\n",
    "        global_step += 1\n",
    "            \n",
    "        batch_images, batch_labels = mnist.train.next_batch(batch_size)\n",
    "            \n",
    "        summary, _ = session.run([loss_summary, train_step], \n",
    "                                 feed_dict={X: prepare_images(batch_images), \n",
    "                                            y: batch_labels, \n",
    "                                            is_training: True})\n",
    "        train_writer.add_summary(summary, global_step)\n",
    "            \n",
    "        if batch_count % 20 == 0:\n",
    "            elapsed =  time.time() - start_time\n",
    "            num_images_processes = 20 * batch_size\n",
    "            images_per_second = float(num_images_processes) / elapsed\n",
    "            start_time = time.time()\n",
    "                \n",
    "            \n",
    "        # print progress and basic stats\n",
    "        if batch_count % 10 == 0:\n",
    "            status = \"Epoche: {} Batch: {}  of {}  [{:.1f} %]  - Images per sec: {:.1f}\".format(e + 1, batch_count, num_batches, 100* (float(batch_count) / num_batches), images_per_second)\n",
    "            print_status_line(status)\n",
    "                \n",
    "        \n",
    "    # print validation accuracy after each epoche\n",
    "    summary, acc = session.run([accuracy_summary, accuracy], feed_dict=evaluate_accurracy_data)\n",
    "    train_writer.add_summary(summary, global_step)\n",
    "    print(\"\\n   Validation Accuracy = %5.2f%%\" % (acc * 100))\n",
    "            \n",
    "\n",
    "print(\"Training finished.\")\n",
    "        \n",
    "    "
   ]
  },
  {
   "cell_type": "markdown",
   "metadata": {},
   "source": [
    "### Evaluate the result"
   ]
  },
  {
   "cell_type": "markdown",
   "metadata": {},
   "source": [
    "Use the test-examples to calculate the accuracy of the model."
   ]
  },
  {
   "cell_type": "code",
   "execution_count": 13,
   "metadata": {
    "collapsed": false
   },
   "outputs": [
    {
     "name": "stdout",
     "output_type": "stream",
     "text": [
      "Test Accuracy = 98.75%\n"
     ]
    }
   ],
   "source": [
    "test_data_accuracy = {\n",
    "    X: prepare_images(test_data),\n",
    "    y: test_labels,\n",
    "    is_training: False\n",
    "}\n",
    "\n",
    "acc, predictions = session.run([accuracy, logits], feed_dict=test_data_accuracy)\n",
    "print(\"Test Accuracy = %5.2f%%\" % (100 * acc))"
   ]
  },
  {
   "cell_type": "markdown",
   "metadata": {},
   "source": [
    "Let's check how many digits have been misclassified and if the classification accuracy differs for the individual types of digits."
   ]
  },
  {
   "cell_type": "code",
   "execution_count": 14,
   "metadata": {
    "collapsed": false
   },
   "outputs": [
    {
     "name": "stdout",
     "output_type": "stream",
     "text": [
      "Misclassified: 125 of 10000\n"
     ]
    }
   ],
   "source": [
    "# get all indices of digits that were not classified correctly.\n",
    "total_misclassified_count = 0\n",
    "misclassified_idx  = list()\n",
    "misclassified_pred = list()\n",
    "\n",
    "for idx in range(len(predictions)):\n",
    "    \n",
    "    if np.argmax(predictions[idx]) != np.argmax(test_labels[idx]):\n",
    "        total_misclassified_count += 1\n",
    "        misclassified_idx.append(idx)\n",
    "        misclassified_pred.append(np.argmax(predictions[idx]))\n",
    "        \n",
    "print(\"Misclassified: %d of %d\" % (total_misclassified_count, len(predictions)))"
   ]
  },
  {
   "cell_type": "code",
   "execution_count": 15,
   "metadata": {
    "collapsed": false
   },
   "outputs": [
    {
     "name": "stdout",
     "output_type": "stream",
     "text": [
      "[(0, 3), (1, 3), (2, 13), (3, 15), (4, 3), (5, 16), (6, 10), (7, 13), (8, 23), (9, 26)]\n"
     ]
    },
    {
     "data": {
      "image/png": "[encoded data removed]",
      "text/plain": [
       "<matplotlib.figure.Figure at 0x1238387b8>"
      ]
     },
     "metadata": {},
     "output_type": "display_data"
    }
   ],
   "source": [
    "misclassified_counter = Counter()\n",
    "for idx in misclassified_idx:\n",
    "    misclassified_counter[np.argmax(test_labels[idx])] += 1\n",
    "    \n",
    "sorted_digits = sorted(misclassified_counter.items())\n",
    "print(sorted_digits)\n",
    "\n",
    "x_axis = [x[0] for x in sorted_digits]\n",
    "y_axis = [x[1] for x in sorted_digits]\n",
    "plt.bar(x_axis, y_axis)\n",
    "plt.show()"
   ]
  },
  {
   "cell_type": "markdown",
   "metadata": {},
   "source": [
    "Finally, let's take a look at some sample from the digits that have not been classified correctly"
   ]
  },
  {
   "cell_type": "code",
   "execution_count": 18,
   "metadata": {
    "collapsed": false
   },
   "outputs": [
    {
     "data": {
      "image/png": "[encoded data removed]",
      "text/plain": [
       "<matplotlib.figure.Figure at 0x12346a208>"
      ]
     },
     "metadata": {},
     "output_type": "display_data"
    }
   ],
   "source": [
    "# Display the first (index 0) training image\n",
    "samples = [int(np.random.sample() * len(misclassified_idx)) for i in range(12)]\n",
    "misclassified_samples_idx = [ misclassified_idx[i] for i in samples]\n",
    "show_digits(test_data, test_labels, misclassified_samples_idx, [np.argmax(p) for p in predictions])\n"
   ]
  },
  {
   "cell_type": "code",
   "execution_count": null,
   "metadata": {
    "collapsed": true
   },
   "outputs": [],
   "source": []
  },
  {
   "cell_type": "code",
   "execution_count": null,
   "metadata": {
    "collapsed": true
   },
   "outputs": [],
   "source": []
  }
 ],
 "metadata": {
  "kernelspec": {
   "display_name": "Python 3",
   "language": "python",
   "name": "python3"
  },
  "language_info": {
   "codemirror_mode": {
    "name": "ipython",
    "version": 3
   },
   "file_extension": ".py",
   "mimetype": "text/x-python",
   "name": "python",
   "nbconvert_exporter": "python",
   "pygments_lexer": "ipython3",
   "version": "3.5.2"
  }
 },
 "nbformat": 4,
 "nbformat_minor": 2
}
