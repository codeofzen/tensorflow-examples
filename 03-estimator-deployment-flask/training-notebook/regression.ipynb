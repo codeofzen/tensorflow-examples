{
 "cells": [
  {
   "cell_type": "markdown",
   "metadata": {},
   "source": [
    "# Deploying a TensorFlow Estimator with Flask\n",
    "\n",
    "The notebook is build up from the great article by Sarah Robinson: [Comparing regression and classification on US elections data with TensorFlow Estimators](https://cloud.google.com/blog/big-data/2018/03/comparing-regression-and-classification-on-us-elections-data-with-tensorflow-estimators) published on the Google Cloud Big Data and Machine Learning blog.\n",
    "\n",
    "This notebook consists of 3 steps to show the basic mechanics:\n",
    "1. Training the model\n",
    "2. Exporting the trained model\n",
    "3. Load the exported model\n",
    "\n",
    "The final part investigates deeper into the Tensorflow API for the SavedPredictor and gives some recommendation to implement a more generic mechanism.\n",
    "\n",
    "The exported model is later used in a standalone Python web-service based on [Flask](http://flask.pocoo.org/), a very lightweight framework for building API in Python."
   ]
  },
  {
   "cell_type": "code",
   "execution_count": 1,
   "metadata": {},
   "outputs": [
    {
     "name": "stdout",
     "output_type": "stream",
     "text": [
      "TensorFlow version: 1.6.0\n"
     ]
    }
   ],
   "source": [
    "import os\n",
    "import tensorflow as tf\n",
    "import numpy as np\n",
    "\n",
    "\n",
    "# Check that we have correct TensorFlow version installed\n",
    "tf_version = tf.__version__\n",
    "print(\"TensorFlow version: {}\".format(tf_version))\n",
    "assert \"1.5\" <= tf_version, \"TensorFlow r1.5 or later is needed\""
   ]
  },
  {
   "cell_type": "code",
   "execution_count": 2,
   "metadata": {},
   "outputs": [],
   "source": [
    "tf.logging.set_verbosity(tf.logging.INFO)\n",
    "\n",
    "train_file = \"./data/regression-train.csv\"\n",
    "test_file = \"./data/regression-test.csv\""
   ]
  },
  {
   "cell_type": "markdown",
   "metadata": {},
   "source": [
    "## Part 1 - Training a Basic Linear Model"
   ]
  },
  {
   "cell_type": "code",
   "execution_count": 3,
   "metadata": {},
   "outputs": [],
   "source": [
    "numerical_feature_names = [\n",
    "    'PctUnder18',\n",
    "    'PctOver65',\n",
    "    'PctFemale',\n",
    "    'PctWhite',\n",
    "    'PctBachelors',\n",
    "    'PctDem',\n",
    "    'PctGop'\n",
    "]\n",
    "\n",
    "feature_columns = [tf.feature_column.numeric_column(k) for k in numerical_feature_names]\n",
    "\n",
    "def my_input_fn(file_path, repeat_count=200):\n",
    "    def decode_csv(line):\n",
    "        parsed_line = tf.decode_csv(line, [[0.],[0.],[0.],[0.],[0.],[0.],[0.],[0.]])\n",
    "        label = parsed_line[-1]  # Last element is the label\n",
    "        features = parsed_line[:-1] # Everything but last elements are the features\n",
    "        d = dict(zip(numerical_feature_names, features)), label\n",
    "        return d\n",
    "\n",
    "    dataset = (tf.data.TextLineDataset(file_path)  # Read text file\n",
    "               .map(decode_csv))  # Transform each elem by applying decode_csv fn\n",
    "    dataset = dataset.shuffle(buffer_size=256)\n",
    "    dataset = dataset.repeat(repeat_count)  # Repeats dataset this # times\n",
    "    dataset = dataset.batch(8)  # Batch size to use\n",
    "    return dataset"
   ]
  },
  {
   "cell_type": "code",
   "execution_count": 4,
   "metadata": {},
   "outputs": [
    {
     "data": {
      "text/plain": [
       "[_NumericColumn(key='PctUnder18', shape=(1,), default_value=None, dtype=tf.float32, normalizer_fn=None),\n",
       " _NumericColumn(key='PctOver65', shape=(1,), default_value=None, dtype=tf.float32, normalizer_fn=None),\n",
       " _NumericColumn(key='PctFemale', shape=(1,), default_value=None, dtype=tf.float32, normalizer_fn=None),\n",
       " _NumericColumn(key='PctWhite', shape=(1,), default_value=None, dtype=tf.float32, normalizer_fn=None),\n",
       " _NumericColumn(key='PctBachelors', shape=(1,), default_value=None, dtype=tf.float32, normalizer_fn=None),\n",
       " _NumericColumn(key='PctDem', shape=(1,), default_value=None, dtype=tf.float32, normalizer_fn=None),\n",
       " _NumericColumn(key='PctGop', shape=(1,), default_value=None, dtype=tf.float32, normalizer_fn=None)]"
      ]
     },
     "execution_count": 4,
     "metadata": {},
     "output_type": "execute_result"
    }
   ],
   "source": [
    "feature_columns"
   ]
  },
  {
   "cell_type": "code",
   "execution_count": 5,
   "metadata": {},
   "outputs": [
    {
     "name": "stdout",
     "output_type": "stream",
     "text": [
      "INFO:tensorflow:Using default config.\n",
      "INFO:tensorflow:Using config: {'_model_dir': './tmp-training-checkpoints', '_tf_random_seed': None, '_save_summary_steps': 100, '_save_checkpoints_steps': None, '_save_checkpoints_secs': 600, '_session_config': None, '_keep_checkpoint_max': 5, '_keep_checkpoint_every_n_hours': 10000, '_log_step_count_steps': 100, '_service': None, '_cluster_spec': <tensorflow.python.training.server_lib.ClusterSpec object at 0x10fe54780>, '_task_type': 'worker', '_task_id': 0, '_global_id_in_cluster': 0, '_master': '', '_evaluation_master': '', '_is_chief': True, '_num_ps_replicas': 0, '_num_worker_replicas': 1}\n",
      "INFO:tensorflow:Calling model_fn.\n",
      "INFO:tensorflow:Done calling model_fn.\n",
      "INFO:tensorflow:Create CheckpointSaverHook.\n",
      "INFO:tensorflow:Graph was finalized.\n",
      "INFO:tensorflow:Running local_init_op.\n",
      "INFO:tensorflow:Done running local_init_op.\n",
      "INFO:tensorflow:Saving checkpoints for 1 into ./tmp-training-checkpoints/model.ckpt.\n",
      "INFO:tensorflow:loss = 1.3773992, step = 1\n",
      "INFO:tensorflow:global_step/sec: 634.921\n",
      "INFO:tensorflow:loss = 0.09337843, step = 101 (0.158 sec)\n",
      "INFO:tensorflow:global_step/sec: 985.474\n",
      "INFO:tensorflow:loss = 0.13534532, step = 201 (0.101 sec)\n",
      "INFO:tensorflow:global_step/sec: 1128.82\n",
      "INFO:tensorflow:loss = 0.07961371, step = 301 (0.089 sec)\n",
      "INFO:tensorflow:global_step/sec: 987.197\n",
      "INFO:tensorflow:loss = 0.09382619, step = 401 (0.101 sec)\n",
      "INFO:tensorflow:global_step/sec: 1048.64\n",
      "INFO:tensorflow:loss = 0.14912602, step = 501 (0.095 sec)\n",
      "INFO:tensorflow:global_step/sec: 928.79\n",
      "INFO:tensorflow:loss = 0.043925792, step = 601 (0.108 sec)\n",
      "INFO:tensorflow:global_step/sec: 938.676\n",
      "INFO:tensorflow:loss = 0.033944078, step = 701 (0.107 sec)\n",
      "INFO:tensorflow:global_step/sec: 997.727\n",
      "INFO:tensorflow:loss = 0.00584698, step = 801 (0.100 sec)\n",
      "INFO:tensorflow:global_step/sec: 974.456\n",
      "INFO:tensorflow:loss = 0.03223345, step = 901 (0.103 sec)\n",
      "INFO:tensorflow:global_step/sec: 893.154\n",
      "INFO:tensorflow:loss = 0.044946425, step = 1001 (0.112 sec)\n",
      "INFO:tensorflow:global_step/sec: 1017.56\n",
      "INFO:tensorflow:loss = 0.015049191, step = 1101 (0.098 sec)\n",
      "INFO:tensorflow:global_step/sec: 818.244\n",
      "INFO:tensorflow:loss = 0.023680128, step = 1201 (0.122 sec)\n",
      "INFO:tensorflow:global_step/sec: 1086.66\n",
      "INFO:tensorflow:loss = 0.01030313, step = 1301 (0.092 sec)\n",
      "INFO:tensorflow:global_step/sec: 938.974\n",
      "INFO:tensorflow:loss = 0.03298488, step = 1401 (0.107 sec)\n",
      "INFO:tensorflow:global_step/sec: 813.91\n",
      "INFO:tensorflow:loss = 0.034862652, step = 1501 (0.123 sec)\n",
      "INFO:tensorflow:global_step/sec: 684.612\n",
      "INFO:tensorflow:loss = 0.01708169, step = 1601 (0.146 sec)\n",
      "INFO:tensorflow:global_step/sec: 825.779\n",
      "INFO:tensorflow:loss = 0.025310988, step = 1701 (0.121 sec)\n",
      "INFO:tensorflow:global_step/sec: 855.35\n",
      "INFO:tensorflow:loss = 0.049808525, step = 1801 (0.117 sec)\n",
      "INFO:tensorflow:global_step/sec: 951.411\n",
      "INFO:tensorflow:loss = 0.016647058, step = 1901 (0.105 sec)\n",
      "INFO:tensorflow:global_step/sec: 895.207\n",
      "INFO:tensorflow:loss = 0.014495004, step = 2001 (0.112 sec)\n",
      "INFO:tensorflow:global_step/sec: 804.888\n",
      "INFO:tensorflow:loss = 0.018951729, step = 2101 (0.124 sec)\n",
      "INFO:tensorflow:Saving checkpoints for 2188 into ./tmp-training-checkpoints/model.ckpt.\n",
      "INFO:tensorflow:Loss for final step: 0.006850518.\n"
     ]
    },
    {
     "data": {
      "text/plain": [
       "<tensorflow.python.estimator.canned.linear.LinearRegressor at 0x10fe544a8>"
      ]
     },
     "execution_count": 5,
     "metadata": {},
     "output_type": "execute_result"
    }
   ],
   "source": [
    "classifier = tf.estimator.LinearRegressor(feature_columns=feature_columns, model_dir='./tmp-training-checkpoints')\n",
    "\n",
    "# Run training for 7 epochs (7 times through our entire dataset)\n",
    "# You can experiment with this value for your own dataset\n",
    "classifier.train(\n",
    "    input_fn=lambda: my_input_fn(train_file, 7))"
   ]
  },
  {
   "cell_type": "code",
   "execution_count": 6,
   "metadata": {},
   "outputs": [
    {
     "name": "stdout",
     "output_type": "stream",
     "text": [
      "INFO:tensorflow:Calling model_fn.\n",
      "INFO:tensorflow:Done calling model_fn.\n",
      "INFO:tensorflow:Starting evaluation at 2018-03-20-15:10:09\n",
      "INFO:tensorflow:Graph was finalized.\n",
      "INFO:tensorflow:Restoring parameters from ./tmp-training-checkpoints/model.ckpt-2188\n",
      "INFO:tensorflow:Running local_init_op.\n",
      "INFO:tensorflow:Done running local_init_op.\n",
      "INFO:tensorflow:Finished evaluation at 2018-03-20-15:10:09\n",
      "INFO:tensorflow:Saving dict for global step 2188: average_loss = 0.0013813323, global_step = 2188, loss = 0.010978901\n",
      "average_loss: 0.0013813323\n",
      "global_step: 2188\n",
      "loss: 0.010978901\n"
     ]
    }
   ],
   "source": [
    "results = classifier.evaluate(input_fn=lambda: my_input_fn(test_file, 1))\n",
    "for key in sorted(results):\n",
    "  print('%s: %s' % (key, results[key]))"
   ]
  },
  {
   "cell_type": "code",
   "execution_count": 7,
   "metadata": {},
   "outputs": [],
   "source": [
    "# Generate predictions on 3 counties\n",
    "prediction_input = {\n",
    "    'PctUnder18': [23.9, 25.7, 10.6],\n",
    "    'PctOver65': [17.6,24.7,15.8],\n",
    "    'PctFemale': [50.0,48.5,53.5],\n",
    "    'PctWhite':[0.965, 0.97, 0.75],\n",
    "    'PctBachelors':[12.7, 17.0, 49.8],\n",
    "    'PctDem': [0.3227832512315271, 0.09475032010243278, 0.6346801346801347],\n",
    "    'PctGop': [0.6545566502463054, 0.8911651728553138, 0.3468013468013468]\n",
    "}\n",
    "\n",
    "def test_input_fn():\n",
    "   dataset = tf.data.Dataset.from_tensors(prediction_input)\n",
    "   return dataset\n",
    "\n",
    "# Predict all our prediction_input\n",
    "pred_results = classifier.predict(input_fn=test_input_fn)"
   ]
  },
  {
   "cell_type": "code",
   "execution_count": 8,
   "metadata": {},
   "outputs": [
    {
     "name": "stdout",
     "output_type": "stream",
     "text": [
      "INFO:tensorflow:Calling model_fn.\n",
      "INFO:tensorflow:Done calling model_fn.\n",
      "INFO:tensorflow:Graph was finalized.\n",
      "INFO:tensorflow:Restoring parameters from ./tmp-training-checkpoints/model.ckpt-2188\n",
      "INFO:tensorflow:Running local_init_op.\n",
      "INFO:tensorflow:Done running local_init_op.\n",
      "(0, {'predictions': array([0.22835457], dtype=float32)})\n",
      "(1, {'predictions': array([0.02758891], dtype=float32)})\n",
      "(2, {'predictions': array([0.6796286], dtype=float32)})\n"
     ]
    }
   ],
   "source": [
    "# Actual values for the raw prediction data:\n",
    "# 1) 23% Clinton\n",
    "# 2) 5% Clinton\n",
    "# 3) 69% Clinton\n",
    "\n",
    "for pred in enumerate(pred_results):\n",
    "    print(pred)"
   ]
  },
  {
   "cell_type": "markdown",
   "metadata": {},
   "source": [
    "## Step 2 - Export the Trained Model"
   ]
  },
  {
   "cell_type": "markdown",
   "metadata": {},
   "source": [
    "Persist the model as a TF-SavedModel"
   ]
  },
  {
   "cell_type": "code",
   "execution_count": 9,
   "metadata": {},
   "outputs": [],
   "source": [
    "def create_input_spec(columns):\n",
    "    feature_spec = {\n",
    "        'PctUnder18': tf.placeholder(dtype=tf.float32, shape=[1,]),\n",
    "        'PctOver65': tf.placeholder(dtype=tf.float32, shape=[1,]),\n",
    "        'PctFemale': tf.placeholder(dtype=tf.float32, shape=[1,]),\n",
    "        'PctWhite': tf.placeholder(dtype=tf.float32, shape=[1,]),\n",
    "        'PctBachelors': tf.placeholder(dtype=tf.float32, shape=[1,]),\n",
    "        'PctDem': tf.placeholder(dtype=tf.float32, shape=[1,]),\n",
    "        'PctGop': tf.placeholder(dtype=tf.float32, shape=[1,])\n",
    "    }\n",
    "    return feature_spec\n",
    "    "
   ]
  },
  {
   "cell_type": "code",
   "execution_count": 10,
   "metadata": {},
   "outputs": [],
   "source": [
    "%%bash\n",
    "rm -rf ./saved_model"
   ]
  },
  {
   "cell_type": "code",
   "execution_count": 11,
   "metadata": {},
   "outputs": [
    {
     "name": "stdout",
     "output_type": "stream",
     "text": [
      "INFO:tensorflow:Calling model_fn.\n",
      "INFO:tensorflow:Done calling model_fn.\n",
      "INFO:tensorflow:Signatures INCLUDED in export for Classify: None\n",
      "INFO:tensorflow:Signatures INCLUDED in export for Regress: None\n",
      "INFO:tensorflow:Signatures INCLUDED in export for Predict: ['predict']\n",
      "INFO:tensorflow:Signatures EXCLUDED from export because they cannot be be served via TensorFlow Serving APIs:\n",
      "INFO:tensorflow:'serving_default' : Regression input must be a single string Tensor; got {'PctUnder18': <tf.Tensor 'Placeholder:0' shape=(?,) dtype=float32>, 'PctOver65': <tf.Tensor 'Placeholder_1:0' shape=(?,) dtype=float32>, 'PctFemale': <tf.Tensor 'Placeholder_2:0' shape=(?,) dtype=float32>, 'PctWhite': <tf.Tensor 'Placeholder_3:0' shape=(?,) dtype=float32>, 'PctBachelors': <tf.Tensor 'Placeholder_4:0' shape=(?,) dtype=float32>, 'PctDem': <tf.Tensor 'Placeholder_5:0' shape=(?,) dtype=float32>, 'PctGop': <tf.Tensor 'Placeholder_6:0' shape=(?,) dtype=float32>}\n",
      "INFO:tensorflow:'regression' : Regression input must be a single string Tensor; got {'PctUnder18': <tf.Tensor 'Placeholder:0' shape=(?,) dtype=float32>, 'PctOver65': <tf.Tensor 'Placeholder_1:0' shape=(?,) dtype=float32>, 'PctFemale': <tf.Tensor 'Placeholder_2:0' shape=(?,) dtype=float32>, 'PctWhite': <tf.Tensor 'Placeholder_3:0' shape=(?,) dtype=float32>, 'PctBachelors': <tf.Tensor 'Placeholder_4:0' shape=(?,) dtype=float32>, 'PctDem': <tf.Tensor 'Placeholder_5:0' shape=(?,) dtype=float32>, 'PctGop': <tf.Tensor 'Placeholder_6:0' shape=(?,) dtype=float32>}\n",
      "WARNING:tensorflow:Export includes no default signature!\n",
      "INFO:tensorflow:Restoring parameters from ./tmp-training-checkpoints/model.ckpt-2188\n",
      "INFO:tensorflow:Assets added to graph.\n",
      "INFO:tensorflow:No assets to write.\n",
      "INFO:tensorflow:SavedModel written to: b\"../saved_model/temp-b'1521558615'/saved_model.pbtxt\"\n"
     ]
    }
   ],
   "source": [
    "saved_model_dir = '../saved_model/'\n",
    "serving_input_receiver = tf.estimator.export.build_raw_serving_input_receiver_fn(create_input_spec(feature_columns))\n",
    "export_dir = classifier.export_savedmodel(export_dir_base=saved_model_dir, serving_input_receiver_fn=serving_input_receiver, as_text=True)"
   ]
  },
  {
   "cell_type": "code",
   "execution_count": 12,
   "metadata": {},
   "outputs": [
    {
     "name": "stdout",
     "output_type": "stream",
     "text": [
      "Model exported to: ../saved_model/1521558615\n",
      "Model version: 1521558615\n"
     ]
    }
   ],
   "source": [
    "export_dir = export_dir.decode(\"utf-8\") \n",
    "print(\"Model exported to: %s\" % export_dir)\n",
    "print(\"Model version: %s\" % export_dir.split('/')[-1])"
   ]
  },
  {
   "cell_type": "markdown",
   "metadata": {},
   "source": [
    "## Step 3 - Load the Trained model\n",
    "Load thesaved model from the given directroy"
   ]
  },
  {
   "cell_type": "code",
   "execution_count": 13,
   "metadata": {},
   "outputs": [
    {
     "name": "stdout",
     "output_type": "stream",
     "text": [
      "INFO:tensorflow:Restoring parameters from b'../saved_model/1521558615/variables/variables'\n"
     ]
    }
   ],
   "source": [
    "predict_fn = tf.contrib.predictor.from_saved_model(export_dir, signature_def_key='predict')"
   ]
  },
  {
   "cell_type": "code",
   "execution_count": 14,
   "metadata": {},
   "outputs": [
    {
     "data": {
      "text/plain": [
       "SavedModelPredictor with feed tensors {'PctBachelors': <tf.Tensor 'Placeholder_4:0' shape=(?,) dtype=float32>, 'PctWhite': <tf.Tensor 'Placeholder_3:0' shape=(?,) dtype=float32>, 'PctUnder18': <tf.Tensor 'Placeholder:0' shape=(?,) dtype=float32>, 'PctGop': <tf.Tensor 'Placeholder_6:0' shape=(?,) dtype=float32>, 'PctDem': <tf.Tensor 'Placeholder_5:0' shape=(?,) dtype=float32>, 'PctFemale': <tf.Tensor 'Placeholder_2:0' shape=(?,) dtype=float32>, 'PctOver65': <tf.Tensor 'Placeholder_1:0' shape=(?,) dtype=float32>} and fetch_tensors {'predictions': <tf.Tensor 'linear/linear_model/weighted_sum:0' shape=(?, 1) dtype=float32>}"
      ]
     },
     "execution_count": 14,
     "metadata": {},
     "output_type": "execute_result"
    }
   ],
   "source": [
    "predict_fn"
   ]
  },
  {
   "cell_type": "code",
   "execution_count": 15,
   "metadata": {},
   "outputs": [],
   "source": [
    "prediction_input_single = { \n",
    "        'PctUnder18': [23.9],\n",
    "        'PctOver65': [17.6],\n",
    "        'PctFemale': [50.0],\n",
    "        'PctWhite': [0.965],\n",
    "        'PctBachelors': [12.7],\n",
    "        'PctDem': [0.3227832512315271],\n",
    "        'PctGop': [0.6545566502463054]\n",
    "}\n",
    "\n",
    "pred_results = predict_fn(prediction_input_single)"
   ]
  },
  {
   "cell_type": "code",
   "execution_count": 16,
   "metadata": {},
   "outputs": [
    {
     "data": {
      "text/plain": [
       "{'predictions': array([[0.22835457]], dtype=float32)}"
      ]
     },
     "execution_count": 16,
     "metadata": {},
     "output_type": "execute_result"
    }
   ],
   "source": [
    "pred_results"
   ]
  },
  {
   "cell_type": "code",
   "execution_count": 17,
   "metadata": {},
   "outputs": [
    {
     "name": "stdout",
     "output_type": "stream",
     "text": [
      "(0, array([0.22835457], dtype=float32))\n"
     ]
    }
   ],
   "source": [
    "for pred in enumerate(pred_results['predictions']):\n",
    "    print(pred)"
   ]
  },
  {
   "cell_type": "code",
   "execution_count": 18,
   "metadata": {},
   "outputs": [],
   "source": [
    "prediction_input = {\n",
    "    'PctUnder18': [23.9, 25.7, 10.6],\n",
    "    'PctOver65': [17.6,24.7,15.8],\n",
    "    'PctFemale': [50.0,48.5,53.5],\n",
    "    'PctWhite':[0.965, 0.97, 0.75],\n",
    "    'PctBachelors':[12.7, 17.0, 49.8],\n",
    "    'PctDem': [0.3227832512315271, 0.09475032010243278, 0.6346801346801347],\n",
    "    'PctGop': [0.6545566502463054, 0.8911651728553138, 0.3468013468013468]\n",
    "}\n",
    "pred_results = predict_fn(prediction_input)"
   ]
  },
  {
   "cell_type": "code",
   "execution_count": 19,
   "metadata": {},
   "outputs": [
    {
     "data": {
      "text/plain": [
       "{'predictions': array([[0.22835457],\n",
       "        [0.02758891],\n",
       "        [0.6796286 ]], dtype=float32)}"
      ]
     },
     "execution_count": 19,
     "metadata": {},
     "output_type": "execute_result"
    }
   ],
   "source": [
    "pred_results"
   ]
  },
  {
   "cell_type": "code",
   "execution_count": 20,
   "metadata": {},
   "outputs": [
    {
     "name": "stdout",
     "output_type": "stream",
     "text": [
      "(0, array([0.22835457], dtype=float32))\n",
      "(1, array([0.02758891], dtype=float32))\n",
      "(2, array([0.6796286], dtype=float32))\n"
     ]
    }
   ],
   "source": [
    "for pred in enumerate(pred_results['predictions']):\n",
    "    print(pred)"
   ]
  },
  {
   "cell_type": "markdown",
   "metadata": {},
   "source": [
    "## Final Thoughts"
   ]
  },
  {
   "cell_type": "code",
   "execution_count": 21,
   "metadata": {},
   "outputs": [
    {
     "data": {
      "text/plain": [
       "{'predictions': <tf.Tensor 'linear/linear_model/weighted_sum:0' shape=(?, 1) dtype=float32>}"
      ]
     },
     "execution_count": 21,
     "metadata": {},
     "output_type": "execute_result"
    }
   ],
   "source": [
    "predict_fn.fetch_tensors"
   ]
  },
  {
   "cell_type": "code",
   "execution_count": 22,
   "metadata": {},
   "outputs": [
    {
     "data": {
      "text/plain": [
       "{'PctBachelors': <tf.Tensor 'Placeholder_4:0' shape=(?,) dtype=float32>,\n",
       " 'PctDem': <tf.Tensor 'Placeholder_5:0' shape=(?,) dtype=float32>,\n",
       " 'PctFemale': <tf.Tensor 'Placeholder_2:0' shape=(?,) dtype=float32>,\n",
       " 'PctGop': <tf.Tensor 'Placeholder_6:0' shape=(?,) dtype=float32>,\n",
       " 'PctOver65': <tf.Tensor 'Placeholder_1:0' shape=(?,) dtype=float32>,\n",
       " 'PctUnder18': <tf.Tensor 'Placeholder:0' shape=(?,) dtype=float32>,\n",
       " 'PctWhite': <tf.Tensor 'Placeholder_3:0' shape=(?,) dtype=float32>}"
      ]
     },
     "execution_count": 22,
     "metadata": {},
     "output_type": "execute_result"
    }
   ],
   "source": [
    "predict_fn.feed_tensors"
   ]
  },
  {
   "cell_type": "code",
   "execution_count": null,
   "metadata": {},
   "outputs": [],
   "source": []
  }
 ],
 "metadata": {
  "kernelspec": {
   "display_name": "Python 3",
   "language": "python",
   "name": "python3"
  },
  "language_info": {
   "codemirror_mode": {
    "name": "ipython",
    "version": 3
   },
   "file_extension": ".py",
   "mimetype": "text/x-python",
   "name": "python",
   "nbconvert_exporter": "python",
   "pygments_lexer": "ipython3",
   "version": "3.6.4"
  }
 },
 "nbformat": 4,
 "nbformat_minor": 2
}
